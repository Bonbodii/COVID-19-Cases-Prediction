{
  "cells": [
    {
      "cell_type": "markdown",
      "metadata": {
        "id": "guE34D3Fj2R9"
      },
      "source": [
        "# **Homework 1: COVID-19 Cases Prediction (Regression)**"
      ]
    },
    {
      "cell_type": "markdown",
      "metadata": {
        "id": "V57zhcTp1Xxb"
      },
      "source": [
        "Objectives:\n",
        "* Solve a regression problem with deep neural networks (DNN).\n",
        "* Understand basic DNN training tips.\n",
        "* Familiarize yourself with PyTorch.\n",
        "\n",
        "If you have any questions, please contact the TAs via TA hours, NTU COOL, or email to mlta-2023-spring@googlegroups.com"
      ]
    },
    {
      "cell_type": "code",
      "execution_count": null,
      "metadata": {
        "colab": {
          "base_uri": "https://localhost:8080/"
        },
        "id": "GUATI4ONArv_",
        "outputId": "ba5e9da4-d2a4-46fe-8b4e-120a3e8b81d0"
      },
      "outputs": [
        {
          "name": "stdout",
          "output_type": "stream",
          "text": [
            "Tue Oct 24 03:41:21 2023       \n",
            "+-----------------------------------------------------------------------------+\n",
            "| NVIDIA-SMI 525.105.17   Driver Version: 525.105.17   CUDA Version: 12.0     |\n",
            "|-------------------------------+----------------------+----------------------+\n",
            "| GPU  Name        Persistence-M| Bus-Id        Disp.A | Volatile Uncorr. ECC |\n",
            "| Fan  Temp  Perf  Pwr:Usage/Cap|         Memory-Usage | GPU-Util  Compute M. |\n",
            "|                               |                      |               MIG M. |\n",
            "|===============================+======================+======================|\n",
            "|   0  Tesla T4            Off  | 00000000:00:04.0 Off |                    0 |\n",
            "| N/A   50C    P8    10W /  70W |      0MiB / 15360MiB |      0%      Default |\n",
            "|                               |                      |                  N/A |\n",
            "+-------------------------------+----------------------+----------------------+\n",
            "                                                                               \n",
            "+-----------------------------------------------------------------------------+\n",
            "| Processes:                                                                  |\n",
            "|  GPU   GI   CI        PID   Type   Process name                  GPU Memory |\n",
            "|        ID   ID                                                   Usage      |\n",
            "|=============================================================================|\n",
            "|  No running processes found                                                 |\n",
            "+-----------------------------------------------------------------------------+\n"
          ]
        }
      ],
      "source": [
        "# check gpu type\n",
        "!nvidia-smi"
      ]
    },
    {
      "cell_type": "markdown",
      "metadata": {
        "id": "Tm2aXcb-j9Fc"
      },
      "source": [
        "# Download data\n",
        "If the Google Drive links below do not work, you can use the dropbox link below or download data from [Kaggle](https://www.kaggle.com/competitions/ml2023spring-hw1/overview), and upload data manually to the workspace."
      ]
    },
    {
      "cell_type": "code",
      "execution_count": null,
      "metadata": {
        "colab": {
          "base_uri": "https://localhost:8080/"
        },
        "id": "YPmfl-awlKZA",
        "outputId": "cf0f7427-dc7e-4938-edd2-5222df0c2706"
      },
      "outputs": [
        {
          "name": "stdout",
          "output_type": "stream",
          "text": [
            "--2023-10-24 03:41:22--  https://www.dropbox.com/s/lmy1riadzoy0ahw/covid.train.csv?dl=0\n",
            "Resolving www.dropbox.com (www.dropbox.com)... 162.125.1.18, 2620:100:6016:18::a27d:112\n",
            "Connecting to www.dropbox.com (www.dropbox.com)|162.125.1.18|:443... connected.\n",
            "HTTP request sent, awaiting response... 302 Found\n",
            "Location: /s/raw/lmy1riadzoy0ahw/covid.train.csv [following]\n",
            "--2023-10-24 03:41:22--  https://www.dropbox.com/s/raw/lmy1riadzoy0ahw/covid.train.csv\n",
            "Reusing existing connection to www.dropbox.com:443.\n",
            "HTTP request sent, awaiting response... 302 Found\n",
            "Location: https://uc769a7138a598f6b55ffce00c73.dl.dropboxusercontent.com/cd/0/inline/CGIAsynpAUPb5RmT1XaUI_cdnWmCShjPDxbViBzaTERYLTSWSqhab-287GTLWTS-rQYH4NxFmo4hRIu81v2PbzALRLcrMxC2dOXs2m8gQJQgSmxqDpcYUBFLAKpktyxAEyA_HVJ-77t2Tn7HvT57hHOJ/file# [following]\n",
            "--2023-10-24 03:41:23--  https://uc769a7138a598f6b55ffce00c73.dl.dropboxusercontent.com/cd/0/inline/CGIAsynpAUPb5RmT1XaUI_cdnWmCShjPDxbViBzaTERYLTSWSqhab-287GTLWTS-rQYH4NxFmo4hRIu81v2PbzALRLcrMxC2dOXs2m8gQJQgSmxqDpcYUBFLAKpktyxAEyA_HVJ-77t2Tn7HvT57hHOJ/file\n",
            "Resolving uc769a7138a598f6b55ffce00c73.dl.dropboxusercontent.com (uc769a7138a598f6b55ffce00c73.dl.dropboxusercontent.com)... 162.125.1.15, 2620:100:6016:15::a27d:10f\n",
            "Connecting to uc769a7138a598f6b55ffce00c73.dl.dropboxusercontent.com (uc769a7138a598f6b55ffce00c73.dl.dropboxusercontent.com)|162.125.1.15|:443... connected.\n",
            "HTTP request sent, awaiting response... 200 OK\n",
            "Length: 2162766 (2.1M) [text/plain]\n",
            "Saving to: ‘covid_train.csv’\n",
            "\n",
            "covid_train.csv     100%[===================>]   2.06M  --.-KB/s    in 0.05s   \n",
            "\n",
            "2023-10-24 03:41:23 (43.5 MB/s) - ‘covid_train.csv’ saved [2162766/2162766]\n",
            "\n",
            "--2023-10-24 03:41:23--  https://www.dropbox.com/s/zalbw42lu4nmhr2/covid.test.csv?dl=0\n",
            "Resolving www.dropbox.com (www.dropbox.com)... 162.125.1.18, 2620:100:6016:18::a27d:112\n",
            "Connecting to www.dropbox.com (www.dropbox.com)|162.125.1.18|:443... connected.\n",
            "HTTP request sent, awaiting response... 302 Found\n",
            "Location: /s/raw/zalbw42lu4nmhr2/covid.test.csv [following]\n",
            "--2023-10-24 03:41:23--  https://www.dropbox.com/s/raw/zalbw42lu4nmhr2/covid.test.csv\n",
            "Reusing existing connection to www.dropbox.com:443.\n",
            "HTTP request sent, awaiting response... 302 Found\n",
            "Location: https://uc241923a727712f92cbd181c4a6.dl.dropboxusercontent.com/cd/0/inline/CGKlbnMqitAJBs3prcRNGP5CEAYDuwoPN5DuyIt1LckF1BoXdSML4t0vCddhhKIUMffpvEpw1NxsBRc2M2kFlz541N_ULw05ygONnKwREoWW2l61tmrgL1rBU08y6-4gsniPFYHc7NrJkOEYsTHSulA8/file# [following]\n",
            "--2023-10-24 03:41:23--  https://uc241923a727712f92cbd181c4a6.dl.dropboxusercontent.com/cd/0/inline/CGKlbnMqitAJBs3prcRNGP5CEAYDuwoPN5DuyIt1LckF1BoXdSML4t0vCddhhKIUMffpvEpw1NxsBRc2M2kFlz541N_ULw05ygONnKwREoWW2l61tmrgL1rBU08y6-4gsniPFYHc7NrJkOEYsTHSulA8/file\n",
            "Resolving uc241923a727712f92cbd181c4a6.dl.dropboxusercontent.com (uc241923a727712f92cbd181c4a6.dl.dropboxusercontent.com)... 162.125.1.15, 2620:100:6016:15::a27d:10f\n",
            "Connecting to uc241923a727712f92cbd181c4a6.dl.dropboxusercontent.com (uc241923a727712f92cbd181c4a6.dl.dropboxusercontent.com)|162.125.1.15|:443... connected.\n",
            "HTTP request sent, awaiting response... 200 OK\n",
            "Length: 638359 (623K) [text/plain]\n",
            "Saving to: ‘covid_test.csv’\n",
            "\n",
            "covid_test.csv      100%[===================>] 623.40K  1.75MB/s    in 0.3s    \n",
            "\n",
            "2023-10-24 03:41:25 (1.75 MB/s) - ‘covid_test.csv’ saved [638359/638359]\n",
            "\n"
          ]
        }
      ],
      "source": [
        "# google drive link\n",
        "# !gdown --id '1BjXalPZxq9mybPKNjF3h5L3NcF7XKTS-' --output covid_train.csv\n",
        "# !gdown --id '1B55t74Jg2E5FCsKCsUEkPKIuqaY7UIi1' --output covid_test.csv\n",
        "\n",
        "# dropbox link\n",
        "!wget -O covid_train.csv https://www.dropbox.com/s/lmy1riadzoy0ahw/covid.train.csv?dl=0\n",
        "!wget -O covid_test.csv https://www.dropbox.com/s/zalbw42lu4nmhr2/covid.test.csv?dl=0"
      ]
    },
    {
      "cell_type": "markdown",
      "metadata": {
        "id": "igqIMEgu64-F"
      },
      "source": [
        "# Import packages"
      ]
    },
    {
      "cell_type": "code",
      "execution_count": null,
      "metadata": {
        "id": "xybQNYCXYu13"
      },
      "outputs": [],
      "source": [
        "# Numerical Operations\n",
        "import math\n",
        "import numpy as np\n",
        "\n",
        "# Reading/Writing Data\n",
        "import pandas as pd\n",
        "import os\n",
        "import csv\n",
        "\n",
        "# For Progress Bar\n",
        "from tqdm import tqdm\n",
        "\n",
        "# Pytorch\n",
        "import torch\n",
        "import torch.nn as nn\n",
        "from torch.utils.data import Dataset, DataLoader, random_split\n",
        "\n",
        "# For plotting learning curve\n",
        "from torch.utils.tensorboard import SummaryWriter"
      ]
    },
    {
      "cell_type": "markdown",
      "metadata": {
        "id": "fTAVqRfc2KK3"
      },
      "source": [
        "# Some Utility Functions\n",
        "\n",
        "You do not need to modify this part."
      ]
    },
    {
      "cell_type": "code",
      "execution_count": null,
      "metadata": {
        "id": "RbrcpfYN2I-H"
      },
      "outputs": [],
      "source": [
        "def same_seed(seed):\n",
        "    '''Fixes random number generator seeds for reproducibility.'''\n",
        "    torch.backends.cudnn.deterministic = True\n",
        "    torch.backends.cudnn.benchmark = False\n",
        "    np.random.seed(seed)\n",
        "    torch.manual_seed(seed)\n",
        "    if torch.cuda.is_available():\n",
        "        torch.cuda.manual_seed_all(seed)\n",
        "\n",
        "def train_valid_split(data_set, valid_ratio, seed):\n",
        "    '''Split provided training data into training set and validation set'''\n",
        "    valid_set_size = int(valid_ratio * len(data_set))\n",
        "    train_set_size = len(data_set) - valid_set_size\n",
        "    train_set, valid_set = random_split(data_set, [train_set_size, valid_set_size], generator=torch.Generator().manual_seed(seed))\n",
        "    return np.array(train_set), np.array(valid_set)\n",
        "\n",
        "def predict(test_loader, model, device):\n",
        "    model.eval() # Set your model to evaluation mode.\n",
        "    preds = []\n",
        "    for x in tqdm(test_loader):\n",
        "        x = x.to(device)\n",
        "        with torch.no_grad():\n",
        "            pred = model(x)\n",
        "            preds.append(pred.detach().cpu())\n",
        "    preds = torch.cat(preds, dim=0).numpy()\n",
        "    return preds"
      ]
    },
    {
      "cell_type": "markdown",
      "metadata": {
        "id": "IqO3lTm78nNO"
      },
      "source": [
        "# Dataset"
      ]
    },
    {
      "cell_type": "code",
      "execution_count": null,
      "metadata": {
        "id": "-mjaJM0wprMs"
      },
      "outputs": [],
      "source": [
        "class COVID19Dataset(Dataset):\n",
        "    '''\n",
        "    x: Features.\n",
        "    y: Targets, if none, do prediction.\n",
        "    '''\n",
        "    def __init__(self, x, y=None):\n",
        "        if y is None:\n",
        "            self.y = y\n",
        "        else:\n",
        "            self.y = torch.FloatTensor(y)\n",
        "        self.x = torch.FloatTensor(x)\n",
        "\n",
        "    def __getitem__(self, idx):\n",
        "        if self.y is None:\n",
        "            return self.x[idx]\n",
        "        else:\n",
        "            return self.x[idx], self.y[idx]\n",
        "\n",
        "    def __len__(self):\n",
        "        return len(self.x)"
      ]
    },
    {
      "cell_type": "markdown",
      "metadata": {
        "id": "m73ooU75CL_j"
      },
      "source": [
        "# Neural Network Model\n",
        "Try out different model architectures by modifying the class below."
      ]
    },
    {
      "cell_type": "code",
      "execution_count": null,
      "metadata": {
        "id": "Qn97_WvvrEkG"
      },
      "outputs": [],
      "source": [
        "class My_Model(nn.Module):\n",
        "    def __init__(self, input_dim):\n",
        "        super(My_Model, self).__init__()\n",
        "        # TODO: modify model's structure, be aware of dimensions.\n",
        "        self.layers = nn.Sequential(\n",
        "            nn.Linear(input_dim, 32),\n",
        "            nn.ReLU(),\n",
        "            nn.Linear(32, 16),\n",
        "            nn.ReLU(),\n",
        "            nn.Linear(16, 8),\n",
        "            nn.ReLU(),\n",
        "            nn.Linear(8, 1)\n",
        "        )\n",
        "\n",
        "    def forward(self, x):\n",
        "        x = self.layers(x)\n",
        "        x = x.squeeze(1) # (B, 1) -> (B)\n",
        "        return x"
      ]
    },
    {
      "cell_type": "markdown",
      "metadata": {
        "id": "x5-LKF6R8xeq"
      },
      "source": [
        "# Feature Selection\n",
        "Choose features you deem useful by modifying the function below."
      ]
    },
    {
      "cell_type": "code",
      "execution_count": null,
      "metadata": {
        "id": "0FEnKRaIIeKp"
      },
      "outputs": [],
      "source": [
        "def select_feat(train_data, valid_data, test_data, select_all=True):\n",
        "    '''Selects useful features to perform regression'''\n",
        "    y_train, y_valid = train_data[:,-1], valid_data[:,-1]\n",
        "    raw_x_train, raw_x_valid, raw_x_test = train_data[:,:-1], valid_data[:,:-1], test_data\n",
        "\n",
        "    if select_all:\n",
        "      feat_idx = list(range(raw_x_train.shape[1]))\n",
        "    else:\n",
        "      excluded_idx = [0]\n",
        "      feat_idx = [] # TODO: Select suitable feature columns.\n",
        "      for i in range(raw_x_train.shape[1]):\n",
        "        if i not in excluded_idx:\n",
        "          feat_idx.append(i)\n",
        "    return raw_x_train[:,feat_idx], raw_x_valid[:,feat_idx], raw_x_test[:,feat_idx], y_train, y_valid"
      ]
    },
    {
      "cell_type": "markdown",
      "metadata": {
        "id": "kADIPNQ2Ih5X"
      },
      "source": [
        "# Training Loop"
      ]
    },
    {
      "cell_type": "code",
      "execution_count": null,
      "metadata": {
        "id": "k4Rq8_TztAhq"
      },
      "outputs": [],
      "source": [
        "def trainer(train_loader, valid_loader, model, config, device):\n",
        "\n",
        "    criterion = nn.MSELoss(reduction='mean') # Define your loss function, do not modify this.\n",
        "\n",
        "    # Define your optimization algorithm.\n",
        "    # TODO: Please check https://pytorch.org/docs/stable/optim.html to get more available algorithms.\n",
        "    # TODO: L2 regularization (optimizer(weight decay...) or implement by your self).\n",
        "    optimizer = torch.optim.SGD(model.parameters(), lr=config['learning_rate'], momentum=0.7)\n",
        "    writer = SummaryWriter() # Writer of tensoboard.\n",
        "\n",
        "    if not os.path.isdir('./models'):\n",
        "        os.mkdir('./models') # Create directory of saving models.\n",
        "\n",
        "    n_epochs, best_loss, step, early_stop_count = config['n_epochs'], math.inf, 0, 0\n",
        "\n",
        "    for epoch in range(n_epochs):\n",
        "        model.train() # Set your model to train mode.\n",
        "        loss_record = []\n",
        "\n",
        "        # tqdm is a package to visualize your training progress.\n",
        "        train_pbar = tqdm(train_loader, position=0, leave=True)\n",
        "\n",
        "        for x, y in train_pbar:\n",
        "            optimizer.zero_grad()               # Set gradient to zero.\n",
        "            x, y = x.to(device), y.to(device)   # Move your data to device.\n",
        "            pred = model(x)\n",
        "            loss = criterion(pred, y)\n",
        "            loss.backward()                     # Compute gradient(backpropagation).\n",
        "            optimizer.step()                    # Update parameters.\n",
        "            step += 1\n",
        "            loss_record.append(loss.detach().item())\n",
        "\n",
        "            # Display current epoch number and loss on tqdm progress bar.\n",
        "            train_pbar.set_description(f'Epoch [{epoch+1}/{n_epochs}]')\n",
        "            train_pbar.set_postfix({'loss': loss.detach().item()})\n",
        "\n",
        "        mean_train_loss = sum(loss_record)/len(loss_record)\n",
        "        writer.add_scalar('Loss/train', mean_train_loss, step)\n",
        "\n",
        "        model.eval() # Set your model to evaluation mode.\n",
        "        loss_record = []\n",
        "        for x, y in valid_loader:\n",
        "            x, y = x.to(device), y.to(device)\n",
        "            with torch.no_grad():\n",
        "                pred = model(x)\n",
        "                loss = criterion(pred, y)\n",
        "\n",
        "            loss_record.append(loss.item())\n",
        "\n",
        "        mean_valid_loss = sum(loss_record)/len(loss_record)\n",
        "        print(f'Epoch [{epoch+1}/{n_epochs}]: Train loss: {mean_train_loss:.4f}, Valid loss: {mean_valid_loss:.4f}')\n",
        "        # writer.add_scalar('Loss/valid', mean_valid_loss, step)\n",
        "\n",
        "        if mean_valid_loss < best_loss:\n",
        "            best_loss = mean_valid_loss\n",
        "            torch.save(model.state_dict(), config['save_path']) # Save your best model\n",
        "            print('Saving model with loss {:.3f}...'.format(best_loss))\n",
        "            early_stop_count = 0\n",
        "        else:\n",
        "            early_stop_count += 1\n",
        "\n",
        "        if early_stop_count >= config['early_stop']:\n",
        "            print('\\nModel is not improving, so we halt the training session.')\n",
        "            return"
      ]
    },
    {
      "cell_type": "markdown",
      "metadata": {
        "id": "0pgkOh2e9UjE"
      },
      "source": [
        "# Configurations\n",
        "`config` contains hyper-parameters for training and the path to save your model."
      ]
    },
    {
      "cell_type": "code",
      "execution_count": null,
      "metadata": {
        "id": "QoWPUahCtoT6"
      },
      "outputs": [],
      "source": [
        "device = 'cuda' if torch.cuda.is_available() else 'cpu'\n",
        "config = {\n",
        "    'seed': 5201314,      # Your seed number, you can pick your lucky number. :)\n",
        "    'select_all': False,   # Whether to use all features.\n",
        "    'valid_ratio': 0.2,   # validation_size = train_size * valid_ratio\n",
        "    'n_epochs': 5000,     # Number of epochs.\n",
        "    'batch_size': 256,\n",
        "    'learning_rate': 1e-4,\n",
        "    'early_stop': 600,    # If model has not improved for this many consecutive epochs, stop training.\n",
        "    'save_path': './models/model.ckpt'  # Your model will be saved here.\n",
        "}\n"
      ]
    },
    {
      "cell_type": "markdown",
      "metadata": {
        "id": "lrS-aJJh9XkW"
      },
      "source": [
        "# Dataloader\n",
        "Read data from files and set up training, validation, and testing sets. You do not need to modify this part."
      ]
    },
    {
      "cell_type": "code",
      "execution_count": null,
      "metadata": {
        "colab": {
          "base_uri": "https://localhost:8080/"
        },
        "id": "2jc7ZfDot2t9",
        "outputId": "5d8b5faf-b0d9-4ea9-b668-b4496de3840d"
      },
      "outputs": [
        {
          "name": "stdout",
          "output_type": "stream",
          "text": [
            "train_data size: (2408, 89) \n",
            "valid_data size: (601, 89) \n",
            "test_data size: (997, 88)\n",
            "number of features: 87\n"
          ]
        }
      ],
      "source": [
        "same_seed(config['seed'])\n",
        "train_data, test_data = pd.read_csv('./covid_train.csv').values, pd.read_csv('./covid_test.csv').values\n",
        "train_data, valid_data = train_valid_split(train_data, config['valid_ratio'], config['seed'])\n",
        "\n",
        "# Print out the data size.\n",
        "print(f\"\"\"train_data size: {train_data.shape}\n",
        "valid_data size: {valid_data.shape}\n",
        "test_data size: {test_data.shape}\"\"\")\n",
        "\n",
        "# Select features\n",
        "x_train, x_valid, x_test, y_train, y_valid = select_feat(train_data, valid_data, test_data, config['select_all'])\n",
        "\n",
        "# Print out the number of features.\n",
        "print(f'number of features: {x_train.shape[1]}')\n",
        "\n",
        "train_dataset, valid_dataset, test_dataset = COVID19Dataset(x_train, y_train), \\\n",
        "                                            COVID19Dataset(x_valid, y_valid), \\\n",
        "                                            COVID19Dataset(x_test)\n",
        "\n",
        "# Pytorch data loader loads pytorch dataset into batches.\n",
        "train_loader = DataLoader(train_dataset, batch_size=config['batch_size'], shuffle=True, pin_memory=True)\n",
        "valid_loader = DataLoader(valid_dataset, batch_size=config['batch_size'], shuffle=True, pin_memory=True)\n",
        "test_loader = DataLoader(test_dataset, batch_size=config['batch_size'], shuffle=False, pin_memory=True)"
      ]
    },
    {
      "cell_type": "markdown",
      "metadata": {
        "id": "0OBYgjCA-YwD"
      },
      "source": [
        "# Start training!"
      ]
    },
    {
      "cell_type": "code",
      "execution_count": null,
      "metadata": {
        "colab": {
          "background_save": true,
          "base_uri": "https://localhost:8080/"
        },
        "id": "YdttVRkAfu2t",
        "outputId": "445c6b93-c2f5-423e-ea8b-2e1f16c86a19"
      },
      "outputs": [
        {
          "name": "stderr",
          "output_type": "stream",
          "text": [
            "Epoch [1/5000]: 100%|██████████| 10/10 [00:00<00:00, 75.59it/s, loss=104]\n"
          ]
        },
        {
          "name": "stdout",
          "output_type": "stream",
          "text": [
            "Epoch [1/5000]: Train loss: 175.7017, Valid loss: 107.3022\n",
            "Saving model with loss 107.302...\n"
          ]
        },
        {
          "name": "stderr",
          "output_type": "stream",
          "text": [
            "Epoch [2/5000]: 100%|██████████| 10/10 [00:00<00:00, 90.28it/s, loss=44.9]\n"
          ]
        },
        {
          "name": "stdout",
          "output_type": "stream",
          "text": [
            "Epoch [2/5000]: Train loss: 65.7964, Valid loss: 36.6347\n",
            "Saving model with loss 36.635...\n"
          ]
        },
        {
          "name": "stderr",
          "output_type": "stream",
          "text": [
            "Epoch [3/5000]: 100%|██████████| 10/10 [00:00<00:00, 89.14it/s, loss=14.4]\n"
          ]
        },
        {
          "name": "stdout",
          "output_type": "stream",
          "text": [
            "Epoch [3/5000]: Train loss: 22.4902, Valid loss: 11.2653\n",
            "Saving model with loss 11.265...\n"
          ]
        },
        {
          "name": "stderr",
          "output_type": "stream",
          "text": [
            "Epoch [4/5000]: 100%|██████████| 10/10 [00:00<00:00, 111.54it/s, loss=13]\n"
          ]
        },
        {
          "name": "stdout",
          "output_type": "stream",
          "text": [
            "Epoch [4/5000]: Train loss: 12.1363, Valid loss: 9.9847\n",
            "Saving model with loss 9.985...\n"
          ]
        },
        {
          "name": "stderr",
          "output_type": "stream",
          "text": [
            "Epoch [5/5000]: 100%|██████████| 10/10 [00:00<00:00, 106.99it/s, loss=7.99]\n"
          ]
        },
        {
          "name": "stdout",
          "output_type": "stream",
          "text": [
            "Epoch [5/5000]: Train loss: 9.8615, Valid loss: 9.1990\n",
            "Saving model with loss 9.199...\n"
          ]
        },
        {
          "name": "stderr",
          "output_type": "stream",
          "text": [
            "Epoch [6/5000]: 100%|██████████| 10/10 [00:00<00:00, 80.33it/s, loss=8.2]\n"
          ]
        },
        {
          "name": "stdout",
          "output_type": "stream",
          "text": [
            "Epoch [6/5000]: Train loss: 10.5408, Valid loss: 12.0835\n"
          ]
        },
        {
          "name": "stderr",
          "output_type": "stream",
          "text": [
            "Epoch [7/5000]: 100%|██████████| 10/10 [00:00<00:00, 83.60it/s, loss=10.2]\n"
          ]
        },
        {
          "name": "stdout",
          "output_type": "stream",
          "text": [
            "Epoch [7/5000]: Train loss: 8.9737, Valid loss: 9.2757\n"
          ]
        },
        {
          "name": "stderr",
          "output_type": "stream",
          "text": [
            "Epoch [8/5000]: 100%|██████████| 10/10 [00:00<00:00, 73.09it/s, loss=8.73]\n"
          ]
        },
        {
          "name": "stdout",
          "output_type": "stream",
          "text": [
            "Epoch [8/5000]: Train loss: 8.0454, Valid loss: 7.4036\n",
            "Saving model with loss 7.404...\n"
          ]
        },
        {
          "name": "stderr",
          "output_type": "stream",
          "text": [
            "Epoch [9/5000]: 100%|██████████| 10/10 [00:00<00:00, 67.25it/s, loss=6.72]\n"
          ]
        },
        {
          "name": "stdout",
          "output_type": "stream",
          "text": [
            "Epoch [9/5000]: Train loss: 7.1168, Valid loss: 7.4628\n"
          ]
        },
        {
          "name": "stderr",
          "output_type": "stream",
          "text": [
            "Epoch [10/5000]: 100%|██████████| 10/10 [00:00<00:00, 74.41it/s, loss=7.24]\n"
          ]
        },
        {
          "name": "stdout",
          "output_type": "stream",
          "text": [
            "Epoch [10/5000]: Train loss: 6.6740, Valid loss: 6.8132\n",
            "Saving model with loss 6.813...\n"
          ]
        },
        {
          "name": "stderr",
          "output_type": "stream",
          "text": [
            "Epoch [11/5000]: 100%|██████████| 10/10 [00:00<00:00, 85.18it/s, loss=6.38]\n"
          ]
        },
        {
          "name": "stdout",
          "output_type": "stream",
          "text": [
            "Epoch [11/5000]: Train loss: 6.1948, Valid loss: 6.1487\n",
            "Saving model with loss 6.149...\n"
          ]
        },
        {
          "name": "stderr",
          "output_type": "stream",
          "text": [
            "Epoch [12/5000]: 100%|██████████| 10/10 [00:00<00:00, 54.43it/s, loss=6.29]\n"
          ]
        },
        {
          "name": "stdout",
          "output_type": "stream",
          "text": [
            "Epoch [12/5000]: Train loss: 5.7449, Valid loss: 5.6996\n",
            "Saving model with loss 5.700...\n"
          ]
        },
        {
          "name": "stderr",
          "output_type": "stream",
          "text": [
            "Epoch [13/5000]: 100%|██████████| 10/10 [00:00<00:00, 65.40it/s, loss=6.43]\n"
          ]
        },
        {
          "name": "stdout",
          "output_type": "stream",
          "text": [
            "Epoch [13/5000]: Train loss: 5.7746, Valid loss: 5.4213\n",
            "Saving model with loss 5.421...\n"
          ]
        },
        {
          "name": "stderr",
          "output_type": "stream",
          "text": [
            "Epoch [14/5000]: 100%|██████████| 10/10 [00:00<00:00, 84.58it/s, loss=4.71]\n"
          ]
        },
        {
          "name": "stdout",
          "output_type": "stream",
          "text": [
            "Epoch [14/5000]: Train loss: 5.1205, Valid loss: 5.1540\n",
            "Saving model with loss 5.154...\n"
          ]
        },
        {
          "name": "stderr",
          "output_type": "stream",
          "text": [
            "Epoch [15/5000]: 100%|██████████| 10/10 [00:00<00:00, 55.11it/s, loss=4.6]\n"
          ]
        },
        {
          "name": "stdout",
          "output_type": "stream",
          "text": [
            "Epoch [15/5000]: Train loss: 4.5954, Valid loss: 4.5996\n",
            "Saving model with loss 4.600...\n"
          ]
        },
        {
          "name": "stderr",
          "output_type": "stream",
          "text": [
            "Epoch [16/5000]: 100%|██████████| 10/10 [00:00<00:00, 81.24it/s, loss=4.09]\n"
          ]
        },
        {
          "name": "stdout",
          "output_type": "stream",
          "text": [
            "Epoch [16/5000]: Train loss: 4.0616, Valid loss: 5.6686\n"
          ]
        },
        {
          "name": "stderr",
          "output_type": "stream",
          "text": [
            "Epoch [17/5000]: 100%|██████████| 10/10 [00:00<00:00, 77.52it/s, loss=3.6]\n"
          ]
        },
        {
          "name": "stdout",
          "output_type": "stream",
          "text": [
            "Epoch [17/5000]: Train loss: 5.5052, Valid loss: 4.9404\n"
          ]
        },
        {
          "name": "stderr",
          "output_type": "stream",
          "text": [
            "Epoch [18/5000]: 100%|██████████| 10/10 [00:00<00:00, 78.08it/s, loss=3.11]\n"
          ]
        },
        {
          "name": "stdout",
          "output_type": "stream",
          "text": [
            "Epoch [18/5000]: Train loss: 3.8402, Valid loss: 3.4102\n",
            "Saving model with loss 3.410...\n"
          ]
        },
        {
          "name": "stderr",
          "output_type": "stream",
          "text": [
            "Epoch [19/5000]: 100%|██████████| 10/10 [00:00<00:00, 55.49it/s, loss=6.05]"
          ]
        },
        {
          "name": "stdout",
          "output_type": "stream",
          "text": [
            "Epoch [19/5000]: Train loss: 4.3049, Valid loss: 5.7763"
          ]
        },
        {
          "name": "stderr",
          "output_type": "stream",
          "text": [
            "\n"
          ]
        },
        {
          "name": "stdout",
          "output_type": "stream",
          "text": [
            "\n"
          ]
        },
        {
          "name": "stderr",
          "output_type": "stream",
          "text": [
            "Epoch [20/5000]: 100%|██████████| 10/10 [00:00<00:00, 71.18it/s, loss=3.13]\n"
          ]
        },
        {
          "name": "stdout",
          "output_type": "stream",
          "text": [
            "Epoch [20/5000]: Train loss: 4.0520, Valid loss: 3.3270\n",
            "Saving model with loss 3.327...\n"
          ]
        },
        {
          "name": "stderr",
          "output_type": "stream",
          "text": [
            "Epoch [21/5000]: 100%|██████████| 10/10 [00:00<00:00, 99.42it/s, loss=5.52]\n"
          ]
        },
        {
          "name": "stdout",
          "output_type": "stream",
          "text": [
            "Epoch [21/5000]: Train loss: 11.3798, Valid loss: 4.7954\n"
          ]
        },
        {
          "name": "stderr",
          "output_type": "stream",
          "text": [
            "Epoch [22/5000]: 100%|██████████| 10/10 [00:00<00:00, 91.75it/s, loss=7.34]\n"
          ]
        },
        {
          "name": "stdout",
          "output_type": "stream",
          "text": [
            "Epoch [22/5000]: Train loss: 3.7378, Valid loss: 17.1999\n"
          ]
        },
        {
          "name": "stderr",
          "output_type": "stream",
          "text": [
            "Epoch [23/5000]: 100%|██████████| 10/10 [00:00<00:00, 95.84it/s, loss=4.03]\n"
          ]
        },
        {
          "name": "stdout",
          "output_type": "stream",
          "text": [
            "Epoch [23/5000]: Train loss: 7.0464, Valid loss: 3.5512\n"
          ]
        },
        {
          "name": "stderr",
          "output_type": "stream",
          "text": [
            "Epoch [24/5000]: 100%|██████████| 10/10 [00:00<00:00, 67.16it/s, loss=3.13]\n"
          ]
        },
        {
          "name": "stdout",
          "output_type": "stream",
          "text": [
            "Epoch [24/5000]: Train loss: 3.3588, Valid loss: 2.8076\n",
            "Saving model with loss 2.808...\n"
          ]
        },
        {
          "name": "stderr",
          "output_type": "stream",
          "text": [
            "Epoch [25/5000]: 100%|██████████| 10/10 [00:00<00:00, 60.23it/s, loss=2.85]\n"
          ]
        },
        {
          "name": "stdout",
          "output_type": "stream",
          "text": [
            "Epoch [25/5000]: Train loss: 3.2965, Valid loss: 4.4835\n"
          ]
        },
        {
          "name": "stderr",
          "output_type": "stream",
          "text": [
            "Epoch [26/5000]: 100%|██████████| 10/10 [00:00<00:00, 51.69it/s, loss=2.42]\n"
          ]
        },
        {
          "name": "stdout",
          "output_type": "stream",
          "text": [
            "Epoch [26/5000]: Train loss: 6.6979, Valid loss: 2.5668\n",
            "Saving model with loss 2.567...\n"
          ]
        },
        {
          "name": "stderr",
          "output_type": "stream",
          "text": [
            "Epoch [27/5000]: 100%|██████████| 10/10 [00:00<00:00, 65.18it/s, loss=3.83]\n"
          ]
        },
        {
          "name": "stdout",
          "output_type": "stream",
          "text": [
            "Epoch [27/5000]: Train loss: 4.5903, Valid loss: 3.9012\n"
          ]
        },
        {
          "name": "stderr",
          "output_type": "stream",
          "text": [
            "Epoch [28/5000]: 100%|██████████| 10/10 [00:00<00:00, 71.78it/s, loss=3.73]\n"
          ]
        },
        {
          "name": "stdout",
          "output_type": "stream",
          "text": [
            "Epoch [28/5000]: Train loss: 3.1538, Valid loss: 3.6768\n"
          ]
        },
        {
          "name": "stderr",
          "output_type": "stream",
          "text": [
            "Epoch [29/5000]: 100%|██████████| 10/10 [00:00<00:00, 102.95it/s, loss=2.01]\n"
          ]
        },
        {
          "name": "stdout",
          "output_type": "stream",
          "text": [
            "Epoch [29/5000]: Train loss: 2.8656, Valid loss: 2.8881\n"
          ]
        },
        {
          "name": "stderr",
          "output_type": "stream",
          "text": [
            "Epoch [30/5000]: 100%|██████████| 10/10 [00:00<00:00, 81.60it/s, loss=2.38]\n"
          ]
        },
        {
          "name": "stdout",
          "output_type": "stream",
          "text": [
            "Epoch [30/5000]: Train loss: 4.9111, Valid loss: 3.1321\n"
          ]
        },
        {
          "name": "stderr",
          "output_type": "stream",
          "text": [
            "Epoch [31/5000]: 100%|██████████| 10/10 [00:00<00:00, 93.92it/s, loss=1.84]\n"
          ]
        },
        {
          "name": "stdout",
          "output_type": "stream",
          "text": [
            "Epoch [31/5000]: Train loss: 2.6618, Valid loss: 2.4238\n",
            "Saving model with loss 2.424...\n"
          ]
        },
        {
          "name": "stderr",
          "output_type": "stream",
          "text": [
            "Epoch [32/5000]: 100%|██████████| 10/10 [00:00<00:00, 85.62it/s, loss=4.06]\n"
          ]
        },
        {
          "name": "stdout",
          "output_type": "stream",
          "text": [
            "Epoch [32/5000]: Train loss: 4.2650, Valid loss: 3.8302\n"
          ]
        },
        {
          "name": "stderr",
          "output_type": "stream",
          "text": [
            "Epoch [33/5000]: 100%|██████████| 10/10 [00:00<00:00, 80.17it/s, loss=3.28]\n"
          ]
        },
        {
          "name": "stdout",
          "output_type": "stream",
          "text": [
            "Epoch [33/5000]: Train loss: 3.2699, Valid loss: 2.5137\n"
          ]
        },
        {
          "name": "stderr",
          "output_type": "stream",
          "text": [
            "Epoch [34/5000]: 100%|██████████| 10/10 [00:00<00:00, 75.03it/s, loss=7.35]\n"
          ]
        },
        {
          "name": "stdout",
          "output_type": "stream",
          "text": [
            "Epoch [34/5000]: Train loss: 3.7677, Valid loss: 9.2791\n"
          ]
        },
        {
          "name": "stderr",
          "output_type": "stream",
          "text": [
            "Epoch [35/5000]: 100%|██████████| 10/10 [00:00<00:00, 69.94it/s, loss=2.13]\n"
          ]
        },
        {
          "name": "stdout",
          "output_type": "stream",
          "text": [
            "Epoch [35/5000]: Train loss: 4.7605, Valid loss: 2.6987\n"
          ]
        },
        {
          "name": "stderr",
          "output_type": "stream",
          "text": [
            "Epoch [36/5000]: 100%|██████████| 10/10 [00:00<00:00, 62.95it/s, loss=1.84]\n"
          ]
        },
        {
          "name": "stdout",
          "output_type": "stream",
          "text": [
            "Epoch [36/5000]: Train loss: 3.7261, Valid loss: 2.7173\n"
          ]
        },
        {
          "name": "stderr",
          "output_type": "stream",
          "text": [
            "Epoch [37/5000]: 100%|██████████| 10/10 [00:00<00:00, 62.49it/s, loss=2.25]\n"
          ]
        },
        {
          "name": "stdout",
          "output_type": "stream",
          "text": [
            "Epoch [37/5000]: Train loss: 2.0667, Valid loss: 1.9597\n",
            "Saving model with loss 1.960...\n"
          ]
        },
        {
          "name": "stderr",
          "output_type": "stream",
          "text": [
            "Epoch [38/5000]: 100%|██████████| 10/10 [00:00<00:00, 82.38it/s, loss=4.62]\n"
          ]
        },
        {
          "name": "stdout",
          "output_type": "stream",
          "text": [
            "Epoch [38/5000]: Train loss: 4.6705, Valid loss: 3.4245\n"
          ]
        },
        {
          "name": "stderr",
          "output_type": "stream",
          "text": [
            "Epoch [39/5000]: 100%|██████████| 10/10 [00:00<00:00, 81.27it/s, loss=2.42]\n"
          ]
        },
        {
          "name": "stdout",
          "output_type": "stream",
          "text": [
            "Epoch [39/5000]: Train loss: 3.5612, Valid loss: 1.9065\n",
            "Saving model with loss 1.906...\n"
          ]
        },
        {
          "name": "stderr",
          "output_type": "stream",
          "text": [
            "Epoch [40/5000]: 100%|██████████| 10/10 [00:00<00:00, 75.80it/s, loss=1.77]\n"
          ]
        },
        {
          "name": "stdout",
          "output_type": "stream",
          "text": [
            "Epoch [40/5000]: Train loss: 3.2962, Valid loss: 1.8946\n",
            "Saving model with loss 1.895...\n"
          ]
        },
        {
          "name": "stderr",
          "output_type": "stream",
          "text": [
            "Epoch [41/5000]: 100%|██████████| 10/10 [00:00<00:00, 71.88it/s, loss=3.23]\n"
          ]
        },
        {
          "name": "stdout",
          "output_type": "stream",
          "text": [
            "Epoch [41/5000]: Train loss: 2.6694, Valid loss: 3.8900\n"
          ]
        },
        {
          "name": "stderr",
          "output_type": "stream",
          "text": [
            "Epoch [42/5000]: 100%|██████████| 10/10 [00:00<00:00, 79.11it/s, loss=1.86]\n"
          ]
        },
        {
          "name": "stdout",
          "output_type": "stream",
          "text": [
            "Epoch [42/5000]: Train loss: 2.3798, Valid loss: 2.4077\n"
          ]
        },
        {
          "name": "stderr",
          "output_type": "stream",
          "text": [
            "Epoch [43/5000]: 100%|██████████| 10/10 [00:00<00:00, 79.88it/s, loss=3.12]\n"
          ]
        },
        {
          "name": "stdout",
          "output_type": "stream",
          "text": [
            "Epoch [43/5000]: Train loss: 4.5809, Valid loss: 1.8608\n",
            "Saving model with loss 1.861...\n"
          ]
        },
        {
          "name": "stderr",
          "output_type": "stream",
          "text": [
            "Epoch [44/5000]: 100%|██████████| 10/10 [00:00<00:00, 70.09it/s, loss=6.83]\n"
          ]
        },
        {
          "name": "stdout",
          "output_type": "stream",
          "text": [
            "Epoch [44/5000]: Train loss: 2.9647, Valid loss: 4.8590\n"
          ]
        },
        {
          "name": "stderr",
          "output_type": "stream",
          "text": [
            "Epoch [45/5000]: 100%|██████████| 10/10 [00:00<00:00, 81.21it/s, loss=2.09]\n"
          ]
        },
        {
          "name": "stdout",
          "output_type": "stream",
          "text": [
            "Epoch [45/5000]: Train loss: 2.2489, Valid loss: 1.7143\n",
            "Saving model with loss 1.714...\n"
          ]
        },
        {
          "name": "stderr",
          "output_type": "stream",
          "text": [
            "Epoch [46/5000]: 100%|██████████| 10/10 [00:00<00:00, 70.31it/s, loss=4.42]\n"
          ]
        },
        {
          "name": "stdout",
          "output_type": "stream",
          "text": [
            "Epoch [46/5000]: Train loss: 2.2245, Valid loss: 6.4258\n"
          ]
        },
        {
          "name": "stderr",
          "output_type": "stream",
          "text": [
            "Epoch [47/5000]: 100%|██████████| 10/10 [00:00<00:00, 74.10it/s, loss=1.92]\n"
          ]
        },
        {
          "name": "stdout",
          "output_type": "stream",
          "text": [
            "Epoch [47/5000]: Train loss: 4.9599, Valid loss: 1.8727\n"
          ]
        },
        {
          "name": "stderr",
          "output_type": "stream",
          "text": [
            "Epoch [48/5000]: 100%|██████████| 10/10 [00:00<00:00, 77.33it/s, loss=2.04]\n"
          ]
        },
        {
          "name": "stdout",
          "output_type": "stream",
          "text": [
            "Epoch [48/5000]: Train loss: 1.8443, Valid loss: 3.1880\n"
          ]
        },
        {
          "name": "stderr",
          "output_type": "stream",
          "text": [
            "Epoch [49/5000]: 100%|██████████| 10/10 [00:00<00:00, 69.57it/s, loss=1.42]\n"
          ]
        },
        {
          "name": "stdout",
          "output_type": "stream",
          "text": [
            "Epoch [49/5000]: Train loss: 2.5360, Valid loss: 1.8205\n"
          ]
        },
        {
          "name": "stderr",
          "output_type": "stream",
          "text": [
            "Epoch [50/5000]: 100%|██████████| 10/10 [00:00<00:00, 55.43it/s, loss=1.63]\n"
          ]
        },
        {
          "name": "stdout",
          "output_type": "stream",
          "text": [
            "Epoch [50/5000]: Train loss: 1.9596, Valid loss: 3.8814\n"
          ]
        },
        {
          "name": "stderr",
          "output_type": "stream",
          "text": [
            "Epoch [51/5000]: 100%|██████████| 10/10 [00:00<00:00, 60.02it/s, loss=2.71]\n"
          ]
        },
        {
          "name": "stdout",
          "output_type": "stream",
          "text": [
            "Epoch [51/5000]: Train loss: 3.6438, Valid loss: 3.9928\n"
          ]
        },
        {
          "name": "stderr",
          "output_type": "stream",
          "text": [
            "Epoch [52/5000]: 100%|██████████| 10/10 [00:00<00:00, 80.13it/s, loss=2.6]\n"
          ]
        },
        {
          "name": "stdout",
          "output_type": "stream",
          "text": [
            "Epoch [52/5000]: Train loss: 2.8230, Valid loss: 3.0217\n"
          ]
        },
        {
          "name": "stderr",
          "output_type": "stream",
          "text": [
            "Epoch [53/5000]: 100%|██████████| 10/10 [00:00<00:00, 59.90it/s, loss=2.58]\n"
          ]
        },
        {
          "name": "stdout",
          "output_type": "stream",
          "text": [
            "Epoch [53/5000]: Train loss: 2.4805, Valid loss: 2.0862\n"
          ]
        },
        {
          "name": "stderr",
          "output_type": "stream",
          "text": [
            "Epoch [54/5000]: 100%|██████████| 10/10 [00:00<00:00, 68.19it/s, loss=1.16]\n"
          ]
        },
        {
          "name": "stdout",
          "output_type": "stream",
          "text": [
            "Epoch [54/5000]: Train loss: 2.4844, Valid loss: 1.7820\n"
          ]
        },
        {
          "name": "stderr",
          "output_type": "stream",
          "text": [
            "Epoch [55/5000]: 100%|██████████| 10/10 [00:00<00:00, 62.99it/s, loss=3.08]\n"
          ]
        },
        {
          "name": "stdout",
          "output_type": "stream",
          "text": [
            "Epoch [55/5000]: Train loss: 2.4982, Valid loss: 4.3516\n"
          ]
        },
        {
          "name": "stderr",
          "output_type": "stream",
          "text": [
            "Epoch [56/5000]: 100%|██████████| 10/10 [00:00<00:00, 54.14it/s, loss=9.55]\n"
          ]
        },
        {
          "name": "stdout",
          "output_type": "stream",
          "text": [
            "Epoch [56/5000]: Train loss: 4.2720, Valid loss: 4.8826\n"
          ]
        },
        {
          "name": "stderr",
          "output_type": "stream",
          "text": [
            "Epoch [57/5000]: 100%|██████████| 10/10 [00:00<00:00, 56.58it/s, loss=1.61]\n"
          ]
        },
        {
          "name": "stdout",
          "output_type": "stream",
          "text": [
            "Epoch [57/5000]: Train loss: 2.6783, Valid loss: 1.6853\n",
            "Saving model with loss 1.685...\n"
          ]
        },
        {
          "name": "stderr",
          "output_type": "stream",
          "text": [
            "Epoch [58/5000]: 100%|██████████| 10/10 [00:00<00:00, 52.30it/s, loss=1.27]\n"
          ]
        },
        {
          "name": "stdout",
          "output_type": "stream",
          "text": [
            "Epoch [58/5000]: Train loss: 1.7323, Valid loss: 1.6239\n",
            "Saving model with loss 1.624...\n"
          ]
        },
        {
          "name": "stderr",
          "output_type": "stream",
          "text": [
            "Epoch [59/5000]: 100%|██████████| 10/10 [00:00<00:00, 58.66it/s, loss=3.71]\n"
          ]
        },
        {
          "name": "stdout",
          "output_type": "stream",
          "text": [
            "Epoch [59/5000]: Train loss: 1.9663, Valid loss: 4.1172\n"
          ]
        },
        {
          "name": "stderr",
          "output_type": "stream",
          "text": [
            "Epoch [60/5000]: 100%|██████████| 10/10 [00:00<00:00, 65.19it/s, loss=1.41]\n"
          ]
        },
        {
          "name": "stdout",
          "output_type": "stream",
          "text": [
            "Epoch [60/5000]: Train loss: 2.5180, Valid loss: 1.4382\n",
            "Saving model with loss 1.438...\n"
          ]
        },
        {
          "name": "stderr",
          "output_type": "stream",
          "text": [
            "Epoch [61/5000]: 100%|██████████| 10/10 [00:00<00:00, 44.38it/s, loss=1.81]\n"
          ]
        },
        {
          "name": "stdout",
          "output_type": "stream",
          "text": [
            "Epoch [61/5000]: Train loss: 1.5623, Valid loss: 1.5863\n"
          ]
        },
        {
          "name": "stderr",
          "output_type": "stream",
          "text": [
            "Epoch [62/5000]: 100%|██████████| 10/10 [00:00<00:00, 61.87it/s, loss=1.77]\n"
          ]
        },
        {
          "name": "stdout",
          "output_type": "stream",
          "text": [
            "Epoch [62/5000]: Train loss: 1.9357, Valid loss: 2.0963\n"
          ]
        },
        {
          "name": "stderr",
          "output_type": "stream",
          "text": [
            "Epoch [63/5000]: 100%|██████████| 10/10 [00:00<00:00, 58.68it/s, loss=5.45]\n"
          ]
        },
        {
          "name": "stdout",
          "output_type": "stream",
          "text": [
            "Epoch [63/5000]: Train loss: 3.3117, Valid loss: 2.9117\n"
          ]
        },
        {
          "name": "stderr",
          "output_type": "stream",
          "text": [
            "Epoch [64/5000]: 100%|██████████| 10/10 [00:00<00:00, 60.90it/s, loss=1.41]\n"
          ]
        },
        {
          "name": "stdout",
          "output_type": "stream",
          "text": [
            "Epoch [64/5000]: Train loss: 3.1678, Valid loss: 1.6742\n"
          ]
        },
        {
          "name": "stderr",
          "output_type": "stream",
          "text": [
            "Epoch [65/5000]: 100%|██████████| 10/10 [00:00<00:00, 64.89it/s, loss=1.62]\n"
          ]
        },
        {
          "name": "stdout",
          "output_type": "stream",
          "text": [
            "Epoch [65/5000]: Train loss: 1.5418, Valid loss: 1.6196\n"
          ]
        },
        {
          "name": "stderr",
          "output_type": "stream",
          "text": [
            "Epoch [66/5000]: 100%|██████████| 10/10 [00:00<00:00, 65.40it/s, loss=1.49]\n"
          ]
        },
        {
          "name": "stdout",
          "output_type": "stream",
          "text": [
            "Epoch [66/5000]: Train loss: 1.5129, Valid loss: 2.1447\n"
          ]
        },
        {
          "name": "stderr",
          "output_type": "stream",
          "text": [
            "Epoch [67/5000]: 100%|██████████| 10/10 [00:00<00:00, 61.99it/s, loss=1.99]\n"
          ]
        },
        {
          "name": "stdout",
          "output_type": "stream",
          "text": [
            "Epoch [67/5000]: Train loss: 1.7806, Valid loss: 1.4085\n",
            "Saving model with loss 1.408...\n"
          ]
        },
        {
          "name": "stderr",
          "output_type": "stream",
          "text": [
            "Epoch [68/5000]: 100%|██████████| 10/10 [00:00<00:00, 58.79it/s, loss=1.61]\n"
          ]
        },
        {
          "name": "stdout",
          "output_type": "stream",
          "text": [
            "Epoch [68/5000]: Train loss: 3.5119, Valid loss: 2.0618\n"
          ]
        },
        {
          "name": "stderr",
          "output_type": "stream",
          "text": [
            "Epoch [69/5000]: 100%|██████████| 10/10 [00:00<00:00, 64.74it/s, loss=1.32]\n"
          ]
        },
        {
          "name": "stdout",
          "output_type": "stream",
          "text": [
            "Epoch [69/5000]: Train loss: 1.8425, Valid loss: 1.6508\n"
          ]
        },
        {
          "name": "stderr",
          "output_type": "stream",
          "text": [
            "Epoch [70/5000]: 100%|██████████| 10/10 [00:00<00:00, 45.01it/s, loss=1.59]\n"
          ]
        },
        {
          "name": "stdout",
          "output_type": "stream",
          "text": [
            "Epoch [70/5000]: Train loss: 1.4597, Valid loss: 1.4311\n"
          ]
        },
        {
          "name": "stderr",
          "output_type": "stream",
          "text": [
            "Epoch [71/5000]: 100%|██████████| 10/10 [00:00<00:00, 57.01it/s, loss=1.53]\n"
          ]
        },
        {
          "name": "stdout",
          "output_type": "stream",
          "text": [
            "Epoch [71/5000]: Train loss: 1.4567, Valid loss: 1.4045\n",
            "Saving model with loss 1.405...\n"
          ]
        },
        {
          "name": "stderr",
          "output_type": "stream",
          "text": [
            "Epoch [72/5000]: 100%|██████████| 10/10 [00:00<00:00, 50.84it/s, loss=1.89]\n"
          ]
        },
        {
          "name": "stdout",
          "output_type": "stream",
          "text": [
            "Epoch [72/5000]: Train loss: 2.1876, Valid loss: 1.7106\n"
          ]
        },
        {
          "name": "stderr",
          "output_type": "stream",
          "text": [
            "Epoch [73/5000]: 100%|██████████| 10/10 [00:00<00:00, 56.15it/s, loss=1.79]\n"
          ]
        },
        {
          "name": "stdout",
          "output_type": "stream",
          "text": [
            "Epoch [73/5000]: Train loss: 1.5308, Valid loss: 1.6323\n"
          ]
        },
        {
          "name": "stderr",
          "output_type": "stream",
          "text": [
            "Epoch [74/5000]: 100%|██████████| 10/10 [00:00<00:00, 59.43it/s, loss=1.97]\n"
          ]
        },
        {
          "name": "stdout",
          "output_type": "stream",
          "text": [
            "Epoch [74/5000]: Train loss: 1.9567, Valid loss: 1.5270\n"
          ]
        },
        {
          "name": "stderr",
          "output_type": "stream",
          "text": [
            "Epoch [75/5000]: 100%|██████████| 10/10 [00:00<00:00, 53.05it/s, loss=1.45]\n"
          ]
        },
        {
          "name": "stdout",
          "output_type": "stream",
          "text": [
            "Epoch [75/5000]: Train loss: 2.2305, Valid loss: 1.8214\n"
          ]
        },
        {
          "name": "stderr",
          "output_type": "stream",
          "text": [
            "Epoch [76/5000]: 100%|██████████| 10/10 [00:00<00:00, 43.64it/s, loss=4.3]\n"
          ]
        },
        {
          "name": "stdout",
          "output_type": "stream",
          "text": [
            "Epoch [76/5000]: Train loss: 1.9522, Valid loss: 4.9842\n"
          ]
        },
        {
          "name": "stderr",
          "output_type": "stream",
          "text": [
            "Epoch [77/5000]: 100%|██████████| 10/10 [00:00<00:00, 57.56it/s, loss=1.58]\n"
          ]
        },
        {
          "name": "stdout",
          "output_type": "stream",
          "text": [
            "Epoch [77/5000]: Train loss: 4.3950, Valid loss: 1.4478\n"
          ]
        },
        {
          "name": "stderr",
          "output_type": "stream",
          "text": [
            "Epoch [78/5000]: 100%|██████████| 10/10 [00:00<00:00, 38.78it/s, loss=1.05]\n"
          ]
        },
        {
          "name": "stdout",
          "output_type": "stream",
          "text": [
            "Epoch [78/5000]: Train loss: 1.9381, Valid loss: 1.4916\n"
          ]
        },
        {
          "name": "stderr",
          "output_type": "stream",
          "text": [
            "Epoch [79/5000]: 100%|██████████| 10/10 [00:00<00:00, 42.19it/s, loss=2.36]\n"
          ]
        },
        {
          "name": "stdout",
          "output_type": "stream",
          "text": [
            "Epoch [79/5000]: Train loss: 1.9486, Valid loss: 2.0459\n"
          ]
        },
        {
          "name": "stderr",
          "output_type": "stream",
          "text": [
            "Epoch [80/5000]: 100%|██████████| 10/10 [00:00<00:00, 63.24it/s, loss=1.73]\n"
          ]
        },
        {
          "name": "stdout",
          "output_type": "stream",
          "text": [
            "Epoch [80/5000]: Train loss: 1.8039, Valid loss: 1.4919\n"
          ]
        },
        {
          "name": "stderr",
          "output_type": "stream",
          "text": [
            "Epoch [81/5000]: 100%|██████████| 10/10 [00:00<00:00, 53.75it/s, loss=1.34]\n"
          ]
        },
        {
          "name": "stdout",
          "output_type": "stream",
          "text": [
            "Epoch [81/5000]: Train loss: 2.0516, Valid loss: 1.3924\n",
            "Saving model with loss 1.392...\n"
          ]
        },
        {
          "name": "stderr",
          "output_type": "stream",
          "text": [
            "Epoch [82/5000]: 100%|██████████| 10/10 [00:00<00:00, 71.77it/s, loss=4.91]\n"
          ]
        },
        {
          "name": "stdout",
          "output_type": "stream",
          "text": [
            "Epoch [82/5000]: Train loss: 2.0074, Valid loss: 4.3489\n"
          ]
        },
        {
          "name": "stderr",
          "output_type": "stream",
          "text": [
            "Epoch [83/5000]: 100%|██████████| 10/10 [00:00<00:00, 82.97it/s, loss=2.62]\n"
          ]
        },
        {
          "name": "stdout",
          "output_type": "stream",
          "text": [
            "Epoch [83/5000]: Train loss: 2.2682, Valid loss: 1.7786\n"
          ]
        },
        {
          "name": "stderr",
          "output_type": "stream",
          "text": [
            "Epoch [84/5000]: 100%|██████████| 10/10 [00:00<00:00, 83.97it/s, loss=1.25]\n"
          ]
        },
        {
          "name": "stdout",
          "output_type": "stream",
          "text": [
            "Epoch [84/5000]: Train loss: 1.7348, Valid loss: 1.5279\n"
          ]
        },
        {
          "name": "stderr",
          "output_type": "stream",
          "text": [
            "Epoch [85/5000]: 100%|██████████| 10/10 [00:00<00:00, 85.45it/s, loss=1.18]\n"
          ]
        },
        {
          "name": "stdout",
          "output_type": "stream",
          "text": [
            "Epoch [85/5000]: Train loss: 2.6238, Valid loss: 1.5031\n"
          ]
        },
        {
          "name": "stderr",
          "output_type": "stream",
          "text": [
            "Epoch [86/5000]: 100%|██████████| 10/10 [00:00<00:00, 68.46it/s, loss=1.41]\n"
          ]
        },
        {
          "name": "stdout",
          "output_type": "stream",
          "text": [
            "Epoch [86/5000]: Train loss: 1.9122, Valid loss: 1.5621\n"
          ]
        },
        {
          "name": "stderr",
          "output_type": "stream",
          "text": [
            "Epoch [87/5000]: 100%|██████████| 10/10 [00:00<00:00, 42.38it/s, loss=1.54]\n"
          ]
        },
        {
          "name": "stdout",
          "output_type": "stream",
          "text": [
            "Epoch [87/5000]: Train loss: 1.4550, Valid loss: 2.4268\n"
          ]
        },
        {
          "name": "stderr",
          "output_type": "stream",
          "text": [
            "Epoch [88/5000]: 100%|██████████| 10/10 [00:00<00:00, 59.15it/s, loss=1.36]\n"
          ]
        },
        {
          "name": "stdout",
          "output_type": "stream",
          "text": [
            "Epoch [88/5000]: Train loss: 3.2814, Valid loss: 1.4966\n"
          ]
        },
        {
          "name": "stderr",
          "output_type": "stream",
          "text": [
            "Epoch [89/5000]: 100%|██████████| 10/10 [00:00<00:00, 73.15it/s, loss=2.07]\n"
          ]
        },
        {
          "name": "stdout",
          "output_type": "stream",
          "text": [
            "Epoch [89/5000]: Train loss: 1.7050, Valid loss: 1.9086\n"
          ]
        },
        {
          "name": "stderr",
          "output_type": "stream",
          "text": [
            "Epoch [90/5000]: 100%|██████████| 10/10 [00:00<00:00, 104.74it/s, loss=2.82]\n"
          ]
        },
        {
          "name": "stdout",
          "output_type": "stream",
          "text": [
            "Epoch [90/5000]: Train loss: 2.0662, Valid loss: 2.5177\n"
          ]
        },
        {
          "name": "stderr",
          "output_type": "stream",
          "text": [
            "Epoch [91/5000]: 100%|██████████| 10/10 [00:00<00:00, 115.91it/s, loss=1.62]\n"
          ]
        },
        {
          "name": "stdout",
          "output_type": "stream",
          "text": [
            "Epoch [91/5000]: Train loss: 1.7662, Valid loss: 1.5978\n"
          ]
        },
        {
          "name": "stderr",
          "output_type": "stream",
          "text": [
            "Epoch [92/5000]: 100%|██████████| 10/10 [00:00<00:00, 118.97it/s, loss=1.24]\n"
          ]
        },
        {
          "name": "stdout",
          "output_type": "stream",
          "text": [
            "Epoch [92/5000]: Train loss: 1.4014, Valid loss: 1.3240\n",
            "Saving model with loss 1.324...\n"
          ]
        },
        {
          "name": "stderr",
          "output_type": "stream",
          "text": [
            "Epoch [93/5000]: 100%|██████████| 10/10 [00:00<00:00, 106.83it/s, loss=2.07]\n"
          ]
        },
        {
          "name": "stdout",
          "output_type": "stream",
          "text": [
            "Epoch [93/5000]: Train loss: 2.8958, Valid loss: 1.3594\n"
          ]
        },
        {
          "name": "stderr",
          "output_type": "stream",
          "text": [
            "Epoch [94/5000]: 100%|██████████| 10/10 [00:00<00:00, 108.22it/s, loss=1.04]\n"
          ]
        },
        {
          "name": "stdout",
          "output_type": "stream",
          "text": [
            "Epoch [94/5000]: Train loss: 1.7370, Valid loss: 1.5659\n"
          ]
        },
        {
          "name": "stderr",
          "output_type": "stream",
          "text": [
            "Epoch [95/5000]: 100%|██████████| 10/10 [00:00<00:00, 108.88it/s, loss=1.26]\n"
          ]
        },
        {
          "name": "stdout",
          "output_type": "stream",
          "text": [
            "Epoch [95/5000]: Train loss: 1.6938, Valid loss: 2.0449\n"
          ]
        },
        {
          "name": "stderr",
          "output_type": "stream",
          "text": [
            "Epoch [96/5000]: 100%|██████████| 10/10 [00:00<00:00, 113.07it/s, loss=1.76]\n"
          ]
        },
        {
          "name": "stdout",
          "output_type": "stream",
          "text": [
            "Epoch [96/5000]: Train loss: 1.9531, Valid loss: 1.6629\n"
          ]
        },
        {
          "name": "stderr",
          "output_type": "stream",
          "text": [
            "Epoch [97/5000]: 100%|██████████| 10/10 [00:00<00:00, 118.92it/s, loss=2.93]\n"
          ]
        },
        {
          "name": "stdout",
          "output_type": "stream",
          "text": [
            "Epoch [97/5000]: Train loss: 1.6473, Valid loss: 3.0258\n"
          ]
        },
        {
          "name": "stderr",
          "output_type": "stream",
          "text": [
            "Epoch [98/5000]: 100%|██████████| 10/10 [00:00<00:00, 120.58it/s, loss=2.02]\n"
          ]
        },
        {
          "name": "stdout",
          "output_type": "stream",
          "text": [
            "Epoch [98/5000]: Train loss: 2.8619, Valid loss: 1.4359\n"
          ]
        },
        {
          "name": "stderr",
          "output_type": "stream",
          "text": [
            "Epoch [99/5000]: 100%|██████████| 10/10 [00:00<00:00, 127.86it/s, loss=1.22]\n"
          ]
        },
        {
          "name": "stdout",
          "output_type": "stream",
          "text": [
            "Epoch [99/5000]: Train loss: 1.4938, Valid loss: 1.7445\n"
          ]
        },
        {
          "name": "stderr",
          "output_type": "stream",
          "text": [
            "Epoch [100/5000]: 100%|██████████| 10/10 [00:00<00:00, 134.22it/s, loss=2.88]\n"
          ]
        },
        {
          "name": "stdout",
          "output_type": "stream",
          "text": [
            "Epoch [100/5000]: Train loss: 2.0763, Valid loss: 1.5664\n"
          ]
        },
        {
          "name": "stderr",
          "output_type": "stream",
          "text": [
            "Epoch [101/5000]: 100%|██████████| 10/10 [00:00<00:00, 102.04it/s, loss=1.3]\n"
          ]
        },
        {
          "name": "stdout",
          "output_type": "stream",
          "text": [
            "Epoch [101/5000]: Train loss: 1.7694, Valid loss: 1.4838\n"
          ]
        },
        {
          "name": "stderr",
          "output_type": "stream",
          "text": [
            "Epoch [102/5000]: 100%|██████████| 10/10 [00:00<00:00, 102.51it/s, loss=1.56]\n"
          ]
        },
        {
          "name": "stdout",
          "output_type": "stream",
          "text": [
            "Epoch [102/5000]: Train loss: 1.5948, Valid loss: 1.3270\n"
          ]
        },
        {
          "name": "stderr",
          "output_type": "stream",
          "text": [
            "Epoch [103/5000]: 100%|██████████| 10/10 [00:00<00:00, 110.34it/s, loss=1.6]\n"
          ]
        },
        {
          "name": "stdout",
          "output_type": "stream",
          "text": [
            "Epoch [103/5000]: Train loss: 1.5695, Valid loss: 1.4163\n"
          ]
        },
        {
          "name": "stderr",
          "output_type": "stream",
          "text": [
            "Epoch [104/5000]: 100%|██████████| 10/10 [00:00<00:00, 122.68it/s, loss=1.26]\n"
          ]
        },
        {
          "name": "stdout",
          "output_type": "stream",
          "text": [
            "Epoch [104/5000]: Train loss: 1.3723, Valid loss: 1.3929\n"
          ]
        },
        {
          "name": "stderr",
          "output_type": "stream",
          "text": [
            "Epoch [105/5000]: 100%|██████████| 10/10 [00:00<00:00, 33.82it/s, loss=2.09]\n"
          ]
        },
        {
          "name": "stdout",
          "output_type": "stream",
          "text": [
            "Epoch [105/5000]: Train loss: 1.9368, Valid loss: 2.0336\n"
          ]
        },
        {
          "name": "stderr",
          "output_type": "stream",
          "text": [
            "Epoch [106/5000]: 100%|██████████| 10/10 [00:00<00:00, 119.05it/s, loss=1.19]\n"
          ]
        },
        {
          "name": "stdout",
          "output_type": "stream",
          "text": [
            "Epoch [106/5000]: Train loss: 1.5881, Valid loss: 1.5794\n"
          ]
        },
        {
          "name": "stderr",
          "output_type": "stream",
          "text": [
            "Epoch [107/5000]: 100%|██████████| 10/10 [00:00<00:00, 101.27it/s, loss=1.31]\n"
          ]
        },
        {
          "name": "stdout",
          "output_type": "stream",
          "text": [
            "Epoch [107/5000]: Train loss: 1.6862, Valid loss: 1.5150\n"
          ]
        },
        {
          "name": "stderr",
          "output_type": "stream",
          "text": [
            "Epoch [108/5000]: 100%|██████████| 10/10 [00:00<00:00, 107.50it/s, loss=2.06]\n"
          ]
        },
        {
          "name": "stdout",
          "output_type": "stream",
          "text": [
            "Epoch [108/5000]: Train loss: 1.7425, Valid loss: 1.9311\n"
          ]
        },
        {
          "name": "stderr",
          "output_type": "stream",
          "text": [
            "Epoch [109/5000]: 100%|██████████| 10/10 [00:00<00:00, 111.49it/s, loss=2.4]\n"
          ]
        },
        {
          "name": "stdout",
          "output_type": "stream",
          "text": [
            "Epoch [109/5000]: Train loss: 1.7162, Valid loss: 1.4051\n"
          ]
        },
        {
          "name": "stderr",
          "output_type": "stream",
          "text": [
            "Epoch [110/5000]: 100%|██████████| 10/10 [00:00<00:00, 106.95it/s, loss=3.19]\n"
          ]
        },
        {
          "name": "stdout",
          "output_type": "stream",
          "text": [
            "Epoch [110/5000]: Train loss: 1.9726, Valid loss: 2.1864\n"
          ]
        },
        {
          "name": "stderr",
          "output_type": "stream",
          "text": [
            "Epoch [111/5000]: 100%|██████████| 10/10 [00:00<00:00, 118.68it/s, loss=1]\n"
          ]
        },
        {
          "name": "stdout",
          "output_type": "stream",
          "text": [
            "Epoch [111/5000]: Train loss: 1.5959, Valid loss: 1.3040\n",
            "Saving model with loss 1.304...\n"
          ]
        },
        {
          "name": "stderr",
          "output_type": "stream",
          "text": [
            "Epoch [112/5000]: 100%|██████████| 10/10 [00:00<00:00, 118.81it/s, loss=1.25]\n"
          ]
        },
        {
          "name": "stdout",
          "output_type": "stream",
          "text": [
            "Epoch [112/5000]: Train loss: 1.5576, Valid loss: 1.3989\n"
          ]
        },
        {
          "name": "stderr",
          "output_type": "stream",
          "text": [
            "Epoch [113/5000]: 100%|██████████| 10/10 [00:00<00:00, 110.50it/s, loss=1.28]\n"
          ]
        },
        {
          "name": "stdout",
          "output_type": "stream",
          "text": [
            "Epoch [113/5000]: Train loss: 1.5180, Valid loss: 1.4085\n"
          ]
        },
        {
          "name": "stderr",
          "output_type": "stream",
          "text": [
            "Epoch [114/5000]: 100%|██████████| 10/10 [00:00<00:00, 100.92it/s, loss=1.27]\n"
          ]
        },
        {
          "name": "stdout",
          "output_type": "stream",
          "text": [
            "Epoch [114/5000]: Train loss: 1.3744, Valid loss: 1.3818\n"
          ]
        },
        {
          "name": "stderr",
          "output_type": "stream",
          "text": [
            "Epoch [115/5000]: 100%|██████████| 10/10 [00:00<00:00, 115.63it/s, loss=1.37]\n"
          ]
        },
        {
          "name": "stdout",
          "output_type": "stream",
          "text": [
            "Epoch [115/5000]: Train loss: 1.5088, Valid loss: 1.5007\n"
          ]
        },
        {
          "name": "stderr",
          "output_type": "stream",
          "text": [
            "Epoch [116/5000]: 100%|██████████| 10/10 [00:00<00:00, 126.83it/s, loss=1.77]\n"
          ]
        },
        {
          "name": "stdout",
          "output_type": "stream",
          "text": [
            "Epoch [116/5000]: Train loss: 2.3131, Valid loss: 1.7903\n"
          ]
        },
        {
          "name": "stderr",
          "output_type": "stream",
          "text": [
            "Epoch [117/5000]: 100%|██████████| 10/10 [00:00<00:00, 126.81it/s, loss=1.24]\n"
          ]
        },
        {
          "name": "stdout",
          "output_type": "stream",
          "text": [
            "Epoch [117/5000]: Train loss: 1.4391, Valid loss: 1.3693\n"
          ]
        },
        {
          "name": "stderr",
          "output_type": "stream",
          "text": [
            "Epoch [118/5000]: 100%|██████████| 10/10 [00:00<00:00, 109.67it/s, loss=1.33]\n"
          ]
        },
        {
          "name": "stdout",
          "output_type": "stream",
          "text": [
            "Epoch [118/5000]: Train loss: 1.3368, Valid loss: 1.3758\n"
          ]
        },
        {
          "name": "stderr",
          "output_type": "stream",
          "text": [
            "Epoch [119/5000]: 100%|██████████| 10/10 [00:00<00:00, 105.21it/s, loss=1.39]\n"
          ]
        },
        {
          "name": "stdout",
          "output_type": "stream",
          "text": [
            "Epoch [119/5000]: Train loss: 1.3305, Valid loss: 1.3567\n"
          ]
        },
        {
          "name": "stderr",
          "output_type": "stream",
          "text": [
            "Epoch [120/5000]: 100%|██████████| 10/10 [00:00<00:00, 115.83it/s, loss=1.31]\n"
          ]
        },
        {
          "name": "stdout",
          "output_type": "stream",
          "text": [
            "Epoch [120/5000]: Train loss: 1.3840, Valid loss: 1.3771\n"
          ]
        },
        {
          "name": "stderr",
          "output_type": "stream",
          "text": [
            "Epoch [121/5000]: 100%|██████████| 10/10 [00:00<00:00, 104.55it/s, loss=1.06]\n"
          ]
        },
        {
          "name": "stdout",
          "output_type": "stream",
          "text": [
            "Epoch [121/5000]: Train loss: 1.3348, Valid loss: 1.8005\n"
          ]
        },
        {
          "name": "stderr",
          "output_type": "stream",
          "text": [
            "Epoch [122/5000]: 100%|██████████| 10/10 [00:00<00:00, 115.57it/s, loss=2.48]\n"
          ]
        },
        {
          "name": "stdout",
          "output_type": "stream",
          "text": [
            "Epoch [122/5000]: Train loss: 2.0319, Valid loss: 2.4011\n"
          ]
        },
        {
          "name": "stderr",
          "output_type": "stream",
          "text": [
            "Epoch [123/5000]: 100%|██████████| 10/10 [00:00<00:00, 110.73it/s, loss=1.92]\n"
          ]
        },
        {
          "name": "stdout",
          "output_type": "stream",
          "text": [
            "Epoch [123/5000]: Train loss: 1.5002, Valid loss: 3.8215\n"
          ]
        },
        {
          "name": "stderr",
          "output_type": "stream",
          "text": [
            "Epoch [124/5000]: 100%|██████████| 10/10 [00:00<00:00, 114.45it/s, loss=2.57]\n"
          ]
        },
        {
          "name": "stdout",
          "output_type": "stream",
          "text": [
            "Epoch [124/5000]: Train loss: 2.8333, Valid loss: 1.8970\n"
          ]
        },
        {
          "name": "stderr",
          "output_type": "stream",
          "text": [
            "Epoch [125/5000]: 100%|██████████| 10/10 [00:00<00:00, 111.77it/s, loss=1.75]\n"
          ]
        },
        {
          "name": "stdout",
          "output_type": "stream",
          "text": [
            "Epoch [125/5000]: Train loss: 1.5291, Valid loss: 1.9453\n"
          ]
        },
        {
          "name": "stderr",
          "output_type": "stream",
          "text": [
            "Epoch [126/5000]: 100%|██████████| 10/10 [00:00<00:00, 108.87it/s, loss=1.79]\n"
          ]
        },
        {
          "name": "stdout",
          "output_type": "stream",
          "text": [
            "Epoch [126/5000]: Train loss: 2.0515, Valid loss: 1.5080\n"
          ]
        },
        {
          "name": "stderr",
          "output_type": "stream",
          "text": [
            "Epoch [127/5000]: 100%|██████████| 10/10 [00:00<00:00, 124.76it/s, loss=1.64]\n"
          ]
        },
        {
          "name": "stdout",
          "output_type": "stream",
          "text": [
            "Epoch [127/5000]: Train loss: 1.5032, Valid loss: 1.3546\n"
          ]
        },
        {
          "name": "stderr",
          "output_type": "stream",
          "text": [
            "Epoch [128/5000]: 100%|██████████| 10/10 [00:00<00:00, 124.86it/s, loss=1.1]\n"
          ]
        },
        {
          "name": "stdout",
          "output_type": "stream",
          "text": [
            "Epoch [128/5000]: Train loss: 1.5439, Valid loss: 1.5200\n"
          ]
        },
        {
          "name": "stderr",
          "output_type": "stream",
          "text": [
            "Epoch [129/5000]: 100%|██████████| 10/10 [00:00<00:00, 118.73it/s, loss=1.51]\n"
          ]
        },
        {
          "name": "stdout",
          "output_type": "stream",
          "text": [
            "Epoch [129/5000]: Train loss: 1.5454, Valid loss: 1.7838\n"
          ]
        },
        {
          "name": "stderr",
          "output_type": "stream",
          "text": [
            "Epoch [130/5000]: 100%|██████████| 10/10 [00:00<00:00, 105.32it/s, loss=1.22]\n"
          ]
        },
        {
          "name": "stdout",
          "output_type": "stream",
          "text": [
            "Epoch [130/5000]: Train loss: 1.9303, Valid loss: 1.3246\n"
          ]
        },
        {
          "name": "stderr",
          "output_type": "stream",
          "text": [
            "Epoch [131/5000]: 100%|██████████| 10/10 [00:00<00:00, 108.92it/s, loss=1.28]\n"
          ]
        },
        {
          "name": "stdout",
          "output_type": "stream",
          "text": [
            "Epoch [131/5000]: Train loss: 1.3148, Valid loss: 1.3630\n"
          ]
        },
        {
          "name": "stderr",
          "output_type": "stream",
          "text": [
            "Epoch [132/5000]: 100%|██████████| 10/10 [00:00<00:00, 115.04it/s, loss=1.82]\n"
          ]
        },
        {
          "name": "stdout",
          "output_type": "stream",
          "text": [
            "Epoch [132/5000]: Train loss: 1.3760, Valid loss: 1.5971\n"
          ]
        },
        {
          "name": "stderr",
          "output_type": "stream",
          "text": [
            "Epoch [133/5000]: 100%|██████████| 10/10 [00:00<00:00, 113.15it/s, loss=1.5]\n"
          ]
        },
        {
          "name": "stdout",
          "output_type": "stream",
          "text": [
            "Epoch [133/5000]: Train loss: 1.5485, Valid loss: 1.9777\n"
          ]
        },
        {
          "name": "stderr",
          "output_type": "stream",
          "text": [
            "Epoch [134/5000]: 100%|██████████| 10/10 [00:00<00:00, 106.78it/s, loss=1.37]\n"
          ]
        },
        {
          "name": "stdout",
          "output_type": "stream",
          "text": [
            "Epoch [134/5000]: Train loss: 1.9806, Valid loss: 1.2683\n",
            "Saving model with loss 1.268...\n"
          ]
        },
        {
          "name": "stderr",
          "output_type": "stream",
          "text": [
            "Epoch [135/5000]: 100%|██████████| 10/10 [00:00<00:00, 115.92it/s, loss=1.39]\n"
          ]
        },
        {
          "name": "stdout",
          "output_type": "stream",
          "text": [
            "Epoch [135/5000]: Train loss: 1.3578, Valid loss: 1.2928\n"
          ]
        },
        {
          "name": "stderr",
          "output_type": "stream",
          "text": [
            "Epoch [136/5000]: 100%|██████████| 10/10 [00:00<00:00, 122.33it/s, loss=1.88]\n"
          ]
        },
        {
          "name": "stdout",
          "output_type": "stream",
          "text": [
            "Epoch [136/5000]: Train loss: 1.9834, Valid loss: 2.2978\n"
          ]
        },
        {
          "name": "stderr",
          "output_type": "stream",
          "text": [
            "Epoch [137/5000]: 100%|██████████| 10/10 [00:00<00:00, 124.36it/s, loss=2.5]\n"
          ]
        },
        {
          "name": "stdout",
          "output_type": "stream",
          "text": [
            "Epoch [137/5000]: Train loss: 1.8725, Valid loss: 1.8367\n"
          ]
        },
        {
          "name": "stderr",
          "output_type": "stream",
          "text": [
            "Epoch [138/5000]: 100%|██████████| 10/10 [00:00<00:00, 116.97it/s, loss=1.32]\n"
          ]
        },
        {
          "name": "stdout",
          "output_type": "stream",
          "text": [
            "Epoch [138/5000]: Train loss: 1.6386, Valid loss: 1.2936\n"
          ]
        },
        {
          "name": "stderr",
          "output_type": "stream",
          "text": [
            "Epoch [139/5000]: 100%|██████████| 10/10 [00:00<00:00, 120.33it/s, loss=1.33]\n"
          ]
        },
        {
          "name": "stdout",
          "output_type": "stream",
          "text": [
            "Epoch [139/5000]: Train loss: 1.3296, Valid loss: 1.2652\n",
            "Saving model with loss 1.265...\n"
          ]
        },
        {
          "name": "stderr",
          "output_type": "stream",
          "text": [
            "Epoch [140/5000]: 100%|██████████| 10/10 [00:00<00:00, 105.79it/s, loss=2.18]\n"
          ]
        },
        {
          "name": "stdout",
          "output_type": "stream",
          "text": [
            "Epoch [140/5000]: Train loss: 1.5270, Valid loss: 1.8912\n"
          ]
        },
        {
          "name": "stderr",
          "output_type": "stream",
          "text": [
            "Epoch [141/5000]: 100%|██████████| 10/10 [00:00<00:00, 117.06it/s, loss=1.33]\n"
          ]
        },
        {
          "name": "stdout",
          "output_type": "stream",
          "text": [
            "Epoch [141/5000]: Train loss: 1.4484, Valid loss: 1.3328\n"
          ]
        },
        {
          "name": "stderr",
          "output_type": "stream",
          "text": [
            "Epoch [142/5000]: 100%|██████████| 10/10 [00:00<00:00, 128.37it/s, loss=2.62]\n"
          ]
        },
        {
          "name": "stdout",
          "output_type": "stream",
          "text": [
            "Epoch [142/5000]: Train loss: 2.2790, Valid loss: 2.1095\n"
          ]
        },
        {
          "name": "stderr",
          "output_type": "stream",
          "text": [
            "Epoch [143/5000]: 100%|██████████| 10/10 [00:00<00:00, 111.20it/s, loss=1.48]\n"
          ]
        },
        {
          "name": "stdout",
          "output_type": "stream",
          "text": [
            "Epoch [143/5000]: Train loss: 1.7692, Valid loss: 1.7266\n"
          ]
        },
        {
          "name": "stderr",
          "output_type": "stream",
          "text": [
            "Epoch [144/5000]: 100%|██████████| 10/10 [00:00<00:00, 115.33it/s, loss=1.16]\n"
          ]
        },
        {
          "name": "stdout",
          "output_type": "stream",
          "text": [
            "Epoch [144/5000]: Train loss: 1.4582, Valid loss: 1.2244\n",
            "Saving model with loss 1.224...\n"
          ]
        },
        {
          "name": "stderr",
          "output_type": "stream",
          "text": [
            "Epoch [145/5000]: 100%|██████████| 10/10 [00:00<00:00, 121.67it/s, loss=2.16]\n"
          ]
        },
        {
          "name": "stdout",
          "output_type": "stream",
          "text": [
            "Epoch [145/5000]: Train loss: 1.7827, Valid loss: 2.5259\n"
          ]
        },
        {
          "name": "stderr",
          "output_type": "stream",
          "text": [
            "Epoch [146/5000]: 100%|██████████| 10/10 [00:00<00:00, 126.30it/s, loss=1.3]\n"
          ]
        },
        {
          "name": "stdout",
          "output_type": "stream",
          "text": [
            "Epoch [146/5000]: Train loss: 1.5761, Valid loss: 1.3456\n"
          ]
        },
        {
          "name": "stderr",
          "output_type": "stream",
          "text": [
            "Epoch [147/5000]: 100%|██████████| 10/10 [00:00<00:00, 129.28it/s, loss=2.07]\n"
          ]
        },
        {
          "name": "stdout",
          "output_type": "stream",
          "text": [
            "Epoch [147/5000]: Train loss: 1.4227, Valid loss: 1.4506\n"
          ]
        },
        {
          "name": "stderr",
          "output_type": "stream",
          "text": [
            "Epoch [148/5000]:   0%|          | 0/10 [00:00<?, ?it/s, loss=1.62]"
          ]
        }
      ],
      "source": [
        "model = My_Model(input_dim=x_train.shape[1]).to(device) # put your model and data on the same computation device.\n",
        "trainer(train_loader, valid_loader, model, config, device)"
      ]
    },
    {
      "cell_type": "markdown",
      "metadata": {
        "id": "Ik09KPqU-di-"
      },
      "source": [
        "# Plot learning curves with `tensorboard` (optional)\n",
        "\n",
        "`tensorboard` is a tool that allows you to visualize your training progress.\n",
        "\n",
        "If this block does not display your learning curve, please wait for few minutes, and re-run this block. It might take some time to load your logging information."
      ]
    },
    {
      "cell_type": "code",
      "execution_count": null,
      "metadata": {
        "colab": {
          "base_uri": "https://localhost:8080/",
          "height": 821
        },
        "id": "loA4nKmLGQ-n",
        "outputId": "4eea2492-e853-4d81-b00a-048fe1ae2858"
      },
      "outputs": [
        {
          "data": {
            "application/javascript": [
              "\n",
              "        (async () => {\n",
              "            const url = new URL(await google.colab.kernel.proxyPort(6006, {'cache': true}));\n",
              "            url.searchParams.set('tensorboardColab', 'true');\n",
              "            const iframe = document.createElement('iframe');\n",
              "            iframe.src = url;\n",
              "            iframe.setAttribute('width', '100%');\n",
              "            iframe.setAttribute('height', '800');\n",
              "            iframe.setAttribute('frameborder', 0);\n",
              "            document.body.appendChild(iframe);\n",
              "        })();\n",
              "    "
            ],
            "text/plain": [
              "<IPython.core.display.Javascript object>"
            ]
          },
          "metadata": {},
          "output_type": "display_data"
        }
      ],
      "source": [
        "%reload_ext tensorboard\n",
        "%tensorboard --logdir=./runs/"
      ]
    },
    {
      "cell_type": "markdown",
      "metadata": {
        "id": "yhAHGqC9-woK"
      },
      "source": [
        "# Testing\n",
        "The predictions of your model on testing set will be stored at `pred.csv`."
      ]
    },
    {
      "cell_type": "code",
      "execution_count": null,
      "metadata": {
        "colab": {
          "base_uri": "https://localhost:8080/"
        },
        "id": "Q5eVdpbvAlAe",
        "outputId": "0a9242ea-3ccb-4975-c156-43aad9e4c887"
      },
      "outputs": [
        {
          "name": "stderr",
          "output_type": "stream",
          "text": [
            "100%|██████████| 4/4 [00:00<00:00, 295.90it/s]\n"
          ]
        }
      ],
      "source": [
        "def save_pred(preds, file):\n",
        "    ''' Save predictions to specified file '''\n",
        "    with open(file, 'w') as fp:\n",
        "        writer = csv.writer(fp)\n",
        "        writer.writerow(['id', 'tested_positive'])\n",
        "        for i, p in enumerate(preds):\n",
        "            writer.writerow([i, p])\n",
        "\n",
        "model = My_Model(input_dim=x_train.shape[1]).to(device)\n",
        "model.load_state_dict(torch.load(config['save_path']))\n",
        "preds = predict(test_loader, model, device)\n",
        "save_pred(preds, 'pred.csv')"
      ]
    },
    {
      "cell_type": "markdown",
      "metadata": {
        "id": "T_N-wBvVahc7"
      },
      "source": [
        "# Download\n",
        "\n",
        "Run this block to download the `pred.csv` automatically."
      ]
    },
    {
      "cell_type": "code",
      "execution_count": null,
      "metadata": {
        "colab": {
          "base_uri": "https://localhost:8080/",
          "height": 17
        },
        "id": "PmMnwrHeavJv",
        "outputId": "a44930ce-0715-4b16-807b-baa532bd9a52"
      },
      "outputs": [
        {
          "data": {
            "application/javascript": [
              "\n",
              "    async function download(id, filename, size) {\n",
              "      if (!google.colab.kernel.accessAllowed) {\n",
              "        return;\n",
              "      }\n",
              "      const div = document.createElement('div');\n",
              "      const label = document.createElement('label');\n",
              "      label.textContent = `Downloading \"${filename}\": `;\n",
              "      div.appendChild(label);\n",
              "      const progress = document.createElement('progress');\n",
              "      progress.max = size;\n",
              "      div.appendChild(progress);\n",
              "      document.body.appendChild(div);\n",
              "\n",
              "      const buffers = [];\n",
              "      let downloaded = 0;\n",
              "\n",
              "      const channel = await google.colab.kernel.comms.open(id);\n",
              "      // Send a message to notify the kernel that we're ready.\n",
              "      channel.send({})\n",
              "\n",
              "      for await (const message of channel.messages) {\n",
              "        // Send a message to notify the kernel that we're ready.\n",
              "        channel.send({})\n",
              "        if (message.buffers) {\n",
              "          for (const buffer of message.buffers) {\n",
              "            buffers.push(buffer);\n",
              "            downloaded += buffer.byteLength;\n",
              "            progress.value = downloaded;\n",
              "          }\n",
              "        }\n",
              "      }\n",
              "      const blob = new Blob(buffers, {type: 'application/binary'});\n",
              "      const a = document.createElement('a');\n",
              "      a.href = window.URL.createObjectURL(blob);\n",
              "      a.download = filename;\n",
              "      div.appendChild(a);\n",
              "      a.click();\n",
              "      div.remove();\n",
              "    }\n",
              "  "
            ],
            "text/plain": [
              "<IPython.core.display.Javascript object>"
            ]
          },
          "metadata": {},
          "output_type": "display_data"
        },
        {
          "data": {
            "application/javascript": [
              "download(\"download_405ca268-fd99-4eb4-af83-a58b0f29df94\", \"pred.csv\", 14547)"
            ],
            "text/plain": [
              "<IPython.core.display.Javascript object>"
            ]
          },
          "metadata": {},
          "output_type": "display_data"
        }
      ],
      "source": [
        "from google.colab import files\n",
        "files.download('pred.csv')"
      ]
    },
    {
      "cell_type": "markdown",
      "metadata": {
        "id": "IJ_k5rY0GvSV"
      },
      "source": [
        "# Reference\n",
        "This notebook uses code written by Heng-Jui Chang @ NTUEE (https://github.com/ga642381/ML2021-Spring/blob/main/HW01/HW01.ipynb)"
      ]
    }
  ],
  "metadata": {
    "accelerator": "GPU",
    "colab": {
      "provenance": []
    },
    "gpuClass": "standard",
    "kernelspec": {
      "display_name": "Python 3",
      "name": "python3"
    },
    "language_info": {
      "name": "python"
    }
  },
  "nbformat": 4,
  "nbformat_minor": 0
}